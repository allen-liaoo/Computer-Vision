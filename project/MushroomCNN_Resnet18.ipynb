{
  "cells": [
    {
      "cell_type": "code",
      "execution_count": null,
      "metadata": {
        "colab": {
          "base_uri": "https://localhost:8080/"
        },
        "id": "eOmWWC9oDGkG",
        "outputId": "ad49494a-cf76-404b-8b2d-0ab38d908ae8"
      },
      "outputs": [
        {
          "output_type": "stream",
          "name": "stdout",
          "text": [
            "Mounted at /content/drive\n",
            "/content/drive/MyDrive/Computer Vision/FungiDataset\n",
            " BenchmarkPhotos\t\t\t MushroomPCALDA.ipynb\n",
            " cnn_weights\t\t\t\t Plotting_DINO_VIT_Results.ipynb\n",
            " cnn_weights_pytorch\t\t\t train_val_annotations\n",
            "'Copy of vit_mushroom_dino_3.ipynb'\t Untitled0.ipynb\n",
            " dataset\t\t\t\t ViT_draft_files\n",
            " dataset_processing\t\t\t vit_mushroom_dino_3.ipynb\n",
            " MushroomCNN_Resnet18.ipynb\t\t ViT_weights\n",
            " MushroomCNN_Resnet50_tensorflow.ipynb\n"
          ]
        }
      ],
      "source": [
        "# Setup\n",
        "import torch\n",
        "from torch.utils.data import Dataset, Subset, DataLoader\n",
        "from torchvision.io import decode_image\n",
        "from torchvision.transforms.v2.functional import to_dtype, resize\n",
        "import torch.optim.lr_scheduler as lr_scheduler\n",
        "from torch.utils.data import random_split\n",
        "from torch import nn\n",
        "import torchvision.models as models\n",
        "import matplotlib.pyplot as plt\n",
        "from tqdm import tqdm\n",
        "from collections import Counter\n",
        "import os, json\n",
        "import random\n",
        "import cv2\n",
        "\n",
        "from google.colab import drive\n",
        "drive.mount('/content/drive')\n",
        "\n",
        "%cd '/content/drive/MyDrive/Computer Vision/FungiDataset'\n",
        "!ls"
      ]
    },
    {
      "cell_type": "code",
      "execution_count": null,
      "metadata": {
        "id": "ShYul5J-O4ep"
      },
      "outputs": [],
      "source": [
        "# Preprocess and build dataset\n",
        "\n",
        "labelsToInt = {\"e\": 0, \"p\": 1}\n",
        "\n",
        "class MushroomDataset(Dataset):\n",
        "    def __init__(self, paths, labels):\n",
        "        self.img_paths = paths\n",
        "        self.labels = labels\n",
        "\n",
        "    def __len__(self):\n",
        "        return len(self.img_paths)\n",
        "\n",
        "    def __getitem__(self, idx):\n",
        "        image = decode_image(self.img_paths[idx], \"RGB\")\n",
        "        image = to_dtype(image, scale= True) # to float\n",
        "        image = resize(image, (224, 224)) # resize image to right dimension for resnet18\n",
        "        label = self.labels[idx]\n",
        "        return image, label\n",
        "\n",
        "def random_sample(dataset, maxSize):\n",
        "    random_indices = random.sample(range(len(dataset)), min(len(dataset), maxSize))\n",
        "    return Subset(dataset, random_indices)\n",
        "\n",
        "def build_dataset(datasetType, maxSize=None):\n",
        "    with open(f'train_val_annotations/labels-{datasetType}.json') as srcF:\n",
        "        # Load the JSON data into a Python list\n",
        "        fileLabels = json.load(srcF)\n",
        "    paths = []\n",
        "    labels = []\n",
        "    for label in fileLabels:\n",
        "        paths.append(label['file_name'])\n",
        "        labels.append(labelsToInt[label['label']])\n",
        "\n",
        "    dataset = MushroomDataset(paths, labels)\n",
        "\n",
        "    # Random sample dataset for dev\n",
        "    if maxSize is not None:\n",
        "        dataset = random_sample(dataset, maxSize)\n",
        "    return dataset\n",
        "\n",
        "train_dataset = build_dataset('train')\n",
        "val_dataset = build_dataset('val')"
      ]
    },
    {
      "cell_type": "code",
      "execution_count": null,
      "metadata": {
        "id": "tafFSWbXHPdl"
      },
      "outputs": [],
      "source": [
        "# Build dataloaders\n",
        "batch_size = 128\n",
        "num_workers = 64\n",
        "\n",
        "train_dataloader = DataLoader(train_dataset, batch_size=batch_size, shuffle=True, num_workers= num_workers, pin_memory= True)\n",
        "val_dataloader = DataLoader(val_dataset, batch_size=batch_size, num_workers= num_workers, pin_memory= True)\n",
        "\n",
        "train_dataloader, val_dataloader"
      ]
    },
    {
      "cell_type": "code",
      "execution_count": null,
      "metadata": {
        "id": "LRyT3IYVjh_Z",
        "colab": {
          "base_uri": "https://localhost:8080/"
        },
        "outputId": "43ffff08-4141-44bc-dbf4-cf3e8750e079"
      },
      "outputs": [
        {
          "output_type": "stream",
          "name": "stderr",
          "text": [
            "Downloading: \"https://download.pytorch.org/models/resnet18-f37072fd.pth\" to /root/.cache/torch/hub/checkpoints/resnet18-f37072fd.pth\n",
            "100%|██████████| 44.7M/44.7M [00:00<00:00, 219MB/s]\n"
          ]
        }
      ],
      "source": [
        "# Function to build ResNet18 base model + custom classificaiton layers\n",
        "def create_model(weights):\n",
        "    base_model = models.resnet18(weights= models.ResNet18_Weights.IMAGENET1K_V1)\n",
        "\n",
        "    # print(base_model)\n",
        "\n",
        "    # replace the final layer with our own classification nn\n",
        "    base_model = nn.Sequential(\n",
        "        *list(base_model.children())[:-1]\n",
        "    )\n",
        "    # print(base_model)\n",
        "    base_model.requires_grad_(True)\n",
        "\n",
        "    model = nn.Sequential(\n",
        "        base_model,\n",
        "        nn.Flatten(),\n",
        "        nn.BatchNorm1d(num_features= 512), # input size after flattening\n",
        "        nn.Linear(512, 128),\n",
        "        nn.ReLU(),\n",
        "        nn.Dropout(0.1),\n",
        "        nn.Linear(128, 32),\n",
        "        nn.ReLU(),\n",
        "        nn.Dropout(0.1),\n",
        "        nn.Linear(32, 1),\n",
        "        nn.Dropout(0.1),\n",
        "        nn.Sigmoid()\n",
        "    )\n",
        "    return model\n",
        "\n",
        "model = create_model(None)\n",
        "\n",
        "# Set GPU\n",
        "device = torch.device(\"cuda\" if torch.cuda.is_available() else \"cpu\")\n",
        "model = model.to(device)"
      ]
    },
    {
      "cell_type": "code",
      "execution_count": null,
      "metadata": {
        "id": "D1c6J4SqKCPH"
      },
      "outputs": [],
      "source": [
        "def count_parameters(model):\n",
        "    return sum(p.numel() for p in model.parameters() if p.requires_grad)\n",
        "\n",
        "print(count_parameters(model))"
      ]
    },
    {
      "cell_type": "code",
      "execution_count": null,
      "metadata": {
        "id": "qjpH6TjOlNll"
      },
      "outputs": [],
      "source": [
        "# Setup for training\n",
        "\n",
        "def trainEpoch(model, dataloader, criterion, optimizer, scheduler, noGrad=False):\n",
        "    length = len(dataloader.dataset)\n",
        "    running_loss = 0.0\n",
        "    total_loss = 0.0\n",
        "    total_accuracy = 0.0\n",
        "\n",
        "    for i, data in enumerate(tqdm(dataloader)):\n",
        "        train_features, train_labels = data # batch data\n",
        "        if torch.cuda.is_available():\n",
        "            train_features, train_labels = train_features.cuda(), \\\n",
        "                train_labels.type(torch.FloatTensor).unsqueeze(1).cuda() # unsqueeze to match outputs size of [B,1] where B is batch size\n",
        "\n",
        "        if noGrad:\n",
        "            with torch.no_grad():\n",
        "                outputs = model(train_features)\n",
        "                loss = criterion(outputs, train_labels)\n",
        "        else:\n",
        "            # forward, backward, optimize\n",
        "            optimizer.zero_grad()\n",
        "            outputs = model(train_features)\n",
        "            loss = criterion(outputs, train_labels)\n",
        "            loss.backward()\n",
        "            optimizer.step()\n",
        "\n",
        "        # statistics\n",
        "        running_loss += loss.item()\n",
        "        if i % 2000 == 1999 and not noGrad:    # print every 2000 mini-batches when training on training data\n",
        "            tqdm.write(f'[batch {i + 1:5d}] loss: {running_loss / 2000:.3f}')\n",
        "            running_loss = 0.0\n",
        "\n",
        "        # _, predicted = torch.max(outputs, 1)    # output is array of [x, y] where x and y are confidence in class 0 and 1 (doesn't add up to 1)\n",
        "        # total_accuracy += (predicted == train_labels).sum().item() # take max of x and y as the predicted label\n",
        "        predicted = outputs > 0.5\n",
        "        total_accuracy += (predicted == train_labels).sum().item()\n",
        "        total_loss += loss.item()\n",
        "\n",
        "    # For scheduler like plateau scheduler\n",
        "    # if scheduler is not None:\n",
        "    #     scheduler.step(total_loss)\n",
        "    return total_accuracy / length, total_loss / length\n",
        "\n",
        "def save_checkpoint(checkpoint_path, epoch, model, optimizer, scheduler):\n",
        "    torch.save({\n",
        "        'epoch': epoch,\n",
        "        'model_state_dict': model.state_dict(),\n",
        "        'optimizer_state_dict': optimizer.state_dict(),\n",
        "        'scheduler_state_dict': scheduler.state_dict() if scheduler is not None else None\n",
        "    }, checkpoint_path)\n",
        "\n",
        "def load_checkpoint(checkpoint_path, model, optimizer, scheduler):\n",
        "    checkpoint = torch.load(checkpoint_path)\n",
        "    model.load_state_dict(checkpoint['model_state_dict'])\n",
        "    optimizer.load_state_dict(checkpoint['optimizer_state_dict'])\n",
        "    scheduler.load_state_dict(checkpoint['scheduler_state_dict'])\n",
        "    startEpoch = checkpoint['epoch']\n",
        "    return startEpoch\n",
        "\n",
        "# Weighted loss\n",
        "# In training, 17727 poisonous (1), 32576 edible (0), 50,303 total\n",
        "# In validation, 681 poisonous, 1092 edible\n",
        "# class_weights = [1 - (32576 / 50303), 1 - (17727 / 50303)]\n",
        "# class_weights = torch.tensor([32576 / 50303]).cuda()\n",
        "# criterion = torch.nn.BCEWithLogitsLoss(pos_weight=class_weights) # positive class = poisonous\n",
        "criterion = torch.nn.BCELoss()\n",
        "optimizer = torch.optim.Adam(model.parameters(), lr=1e-5, weight_decay=1e-6)\n",
        "scheduler = lr_scheduler.StepLR(optimizer, 5) #lr_scheduler.ReduceLROnPlateau(optimizer, 'min', patience=2, factor=0.1)"
      ]
    },
    {
      "cell_type": "code",
      "source": [
        "# load checkpoint if needed\n",
        "startEpoch = 10\n",
        "checkpoint_path = f\"/content/drive/MyDrive/Computer Vision/FungiDataset/cnn_weights_pytorch/candidate run 1/weight_train_ep{startEpoch}.pt\"\n",
        "startEpoch = load_checkpoint(checkpoint_path, model, optimizer, scheduler)\n",
        "print(f\"Loading checkpoint of epoch {startEpoch} from {checkpoint_path}\")"
      ],
      "metadata": {
        "id": "gm96eA_-okKk",
        "colab": {
          "base_uri": "https://localhost:8080/"
        },
        "outputId": "7d4f55f2-ee83-47a1-b61e-4b9fa79073ea"
      },
      "execution_count": null,
      "outputs": [
        {
          "output_type": "stream",
          "name": "stderr",
          "text": [
            "<ipython-input-12-37492fa5a92b>:53: FutureWarning: You are using `torch.load` with `weights_only=False` (the current default value), which uses the default pickle module implicitly. It is possible to construct malicious pickle data which will execute arbitrary code during unpickling (See https://github.com/pytorch/pytorch/blob/main/SECURITY.md#untrusted-models for more details). In a future release, the default value for `weights_only` will be flipped to `True`. This limits the functions that could be executed during unpickling. Arbitrary objects will no longer be allowed to be loaded via this mode unless they are explicitly allowlisted by the user via `torch.serialization.add_safe_globals`. We recommend you start setting `weights_only=True` for any use case where you don't have full control of the loaded file. Please open an issue on GitHub for any issues related to this experimental feature.\n",
            "  checkpoint = torch.load(checkpoint_path)\n"
          ]
        },
        {
          "output_type": "stream",
          "name": "stdout",
          "text": [
            "Loading checkpoint of epoch 10 from /content/drive/MyDrive/Computer Vision/FungiDataset/cnn_weights_pytorch/candidate run 1/weight_train_ep10.pt\n"
          ]
        }
      ]
    },
    {
      "cell_type": "code",
      "execution_count": null,
      "metadata": {
        "id": "6icm5mqmlbDE"
      },
      "outputs": [],
      "source": [
        "numEpochs = 10\n",
        "saveCheckpoint = True\n",
        "# saveCheckpoint = False\n",
        "\n",
        "if 'startEpoch' not in locals():\n",
        "    startEpoch = 0\n",
        "\n",
        "test_accuracies, test_losses, val_accuracies, val_losses = [], [], [], []\n",
        "\n",
        "for epoch in range(startEpoch, startEpoch+numEpochs):\n",
        "    print(f'Epoch: {epoch + 1}')\n",
        "\n",
        "    model.train()\n",
        "    accuracy, loss = trainEpoch(model, train_dataloader, criterion, optimizer, scheduler)\n",
        "    print(f'Training Accuracy: {accuracy:.4%}, Loss: {loss:.4%}')\n",
        "\n",
        "    test_accuracies.append(accuracy)\n",
        "    test_losses.append(loss)\n",
        "\n",
        "    if saveCheckpoint:\n",
        "        checkpoint_path = f\"/content/drive/MyDrive/Computer Vision/FungiDataset/cnn_weights_pytorch/weight_train_ep{epoch+1}.pt\"\n",
        "        save_checkpoint(checkpoint_path, epoch+1, model, optimizer, scheduler)\n",
        "        print(\"Saved checkpoint to \" + checkpoint_path)\n",
        "\n",
        "    # Validation\n",
        "    model.eval()\n",
        "    accuracy, loss = trainEpoch(model, val_dataloader, criterion, optimizer, scheduler, True)\n",
        "    print(f'Validation Accuracy: {accuracy:.4%}, Loss: {loss:.4%}')\n",
        "    val_accuracies.append(accuracy)\n",
        "    val_losses.append(loss)\n",
        "\n",
        "\n",
        "    # For step scheduler\n",
        "    if scheduler is not None:\n",
        "        scheduler.step(epoch)\n",
        "\n",
        "print(test_accuracies)\n",
        "print(test_losses)\n",
        "print(val_accuracies)\n",
        "print(val_losses)"
      ]
    },
    {
      "cell_type": "code",
      "source": [
        "# Validation\n",
        "model.eval()\n",
        "accuracy, loss = trainEpoch(model, val_dataloader, criterion, optimizer, scheduler, True)\n",
        "print(f'Validation Accuracy: {accuracy:.2%}, Loss: {loss:.2%}')"
      ],
      "metadata": {
        "id": "Dp7tW_UbhkJT"
      },
      "execution_count": null,
      "outputs": []
    },
    {
      "cell_type": "code",
      "execution_count": null,
      "metadata": {
        "id": "cni-avGYl90v",
        "colab": {
          "base_uri": "https://localhost:8080/"
        },
        "outputId": "09967e9b-e8e2-4fa3-b60a-a2fae58ad792"
      },
      "outputs": [
        {
          "output_type": "stream",
          "name": "stdout",
          "text": [
            "tensor([[False],\n",
            "        [False],\n",
            "        [False],\n",
            "        [ True],\n",
            "        [False],\n",
            "        [False]], device='cuda:0')\n"
          ]
        }
      ],
      "source": [
        "# Benchmark (small)\n",
        "fungiBenchmark= 'BenchmarkPhotos'\n",
        "image_paths = [\n",
        "    'chanterelle(double_edible_1).jpg',\n",
        "    'jack_o_lantern(double_poisonous_1).jpg',\n",
        "    'morel(double_edible_2).jpg',\n",
        "    'false_morel(double_poisonous_2).jpg',\n",
        "    'shaggy_mane(double_edible_3).jpg',\n",
        "    'green_spored_parasol(double_poisonous_3).jpg'\n",
        "]\n",
        "\n",
        "def load_images(image_paths):\n",
        "    images = []\n",
        "    for path in image_paths:\n",
        "        path = os.path.join(fungiBenchmark, path)\n",
        "        image = cv2.imread(path)\n",
        "        image = cv2.resize(image, (224, 224), interpolation=cv2.INTER_AREA)\n",
        "        image = cv2.cvtColor(image, code=cv2.COLOR_BGR2RGB)\n",
        "        tensor = torch.from_numpy(image)\n",
        "        tensor = tensor.permute(2, 0, 1) # Permute the dimensions to match PyTorch's format (C, H, W)\n",
        "        tensor = tensor.float() / 255.0\n",
        "        tensor = tensor.to(device) # go to GPU\n",
        "        images.append(tensor)\n",
        "    images = torch.stack(images)\n",
        "    return images\n",
        "\n",
        "images = load_images(image_paths)\n",
        "\n",
        "model.eval()\n",
        "with torch.no_grad():\n",
        "    outputs = model(images)\n",
        "    predicted = outputs > 0.5\n",
        "    print(predicted)"
      ]
    },
    {
      "cell_type": "code",
      "source": [
        "# Run model on test set\n",
        "test_path = 'dataset/test'\n",
        "onlyfiles_paths = [f for f in os.listdir(test_path) if os.path.isfile(os.path.join(test_path, f))]\n",
        "\n",
        "class MushroomTestDataset(Dataset):\n",
        "    def __init__(self, paths):\n",
        "        self.img_paths = paths\n",
        "\n",
        "    def __len__(self):\n",
        "        return len(self.img_paths)\n",
        "\n",
        "    def __getitem__(self, idx):\n",
        "        image = decode_image(test_path+'/'+self.img_paths[idx], \"RGB\")\n",
        "        image = to_dtype(image, scale= True) # to float\n",
        "        image = resize(image, (224, 224)) # resize image to right dimension for resnet18\n",
        "        return image\n",
        "\n",
        "test_dataset = MushroomTestDataset(onlyfiles_paths)\n",
        "# test_dataset = random_sample(test_dataset, 30)\n",
        "test_dataloader = DataLoader(test_dataset, batch_size= 16, num_workers= 2, pin_memory= True)\n",
        "\n",
        "predictions = []\n",
        "model.eval()\n",
        "for data in tqdm(test_dataloader):\n",
        "    with torch.no_grad():\n",
        "        outputs = model(data.cuda())\n",
        "        predicted = outputs > 0.5\n",
        "        predictions.extend(predicted.tolist())\n",
        "\n",
        "predictions = torch.tensor(predictions)\n",
        "print('\\n')\n",
        "print(str((predictions.flatten() == True).sum().item()) + ' / ' + str(len(predictions)))"
      ],
      "metadata": {
        "id": "m-T2U8yj6Y3Y"
      },
      "execution_count": null,
      "outputs": []
    },
    {
      "cell_type": "markdown",
      "source": [
        "# Outputs"
      ],
      "metadata": {
        "id": "qd4c74dI7QpE"
      }
    },
    {
      "cell_type": "markdown",
      "source": [
        "Training:\n",
        "```\n",
        "Epoch: 1\n",
        "100%|██████████| 393/393 [03:12<00:00,  2.04it/s]\n",
        "Training Accuracy: 65.9543%, Loss: 0.4856%\n",
        "Saved checkpoint to /content/drive/MyDrive/Computer Vision/FungiDataset/cnn_weights_pytorch/weight_train_ep1.pt\n",
        "100%|██████████| 14/14 [00:08<00:00,  1.65it/s]\n",
        "Validation Accuracy: 65.1438%, Loss: 0.4939%\n",
        "Epoch: 2\n",
        "100%|██████████| 393/393 [03:10<00:00,  2.06it/s]\n",
        "Training Accuracy: 72.9499%, Loss: 0.4211%\n",
        "Saved checkpoint to /content/drive/MyDrive/Computer Vision/FungiDataset/cnn_weights_pytorch/weight_train_ep2.pt\n",
        "100%|██████████| 14/14 [00:08<00:00,  1.71it/s]\n",
        "Validation Accuracy: 66.4411%, Loss: 0.5080%\n",
        "Epoch: 3\n",
        "100%|██████████| 393/393 [03:12<00:00,  2.04it/s]\n",
        "Training Accuracy: 81.1144%, Loss: 0.3233%\n",
        "Saved checkpoint to /content/drive/MyDrive/Computer Vision/FungiDataset/cnn_weights_pytorch/weight_train_ep3.pt\n",
        "100%|██████████| 14/14 [00:09<00:00,  1.52it/s]\n",
        "Validation Accuracy: 65.4822%, Loss: 0.5440%\n",
        "Epoch: 4\n",
        "100%|██████████| 393/393 [03:11<00:00,  2.06it/s]\n",
        "Training Accuracy: 88.6846%, Loss: 0.2062%\n",
        "Saved checkpoint to /content/drive/MyDrive/Computer Vision/FungiDataset/cnn_weights_pytorch/weight_train_ep4.pt\n",
        "100%|██████████| 14/14 [00:08<00:00,  1.62it/s]\n",
        "Validation Accuracy: 61.8161%, Loss: 0.6989%\n",
        "Epoch: 5\n",
        "100%|██████████| 393/393 [03:09<00:00,  2.07it/s]\n",
        "Training Accuracy: 92.1496%, Loss: 0.1432%\n",
        "Saved checkpoint to /content/drive/MyDrive/Computer Vision/FungiDataset/cnn_weights_pytorch/weight_train_ep5.pt\n",
        "100%|██████████| 14/14 [00:08<00:00,  1.74it/s]\n",
        "Validation Accuracy: 65.5386%, Loss: 0.9055%\n",
        "Epoch: 6\n",
        "100%|██████████| 393/393 [03:10<00:00,  2.06it/s]\n",
        "Training Accuracy: 93.8453%, Loss: 0.1123%\n",
        "Saved checkpoint to /content/drive/MyDrive/Computer Vision/FungiDataset/cnn_weights_pytorch/weight_train_ep6.pt\n",
        "100%|██████████| 14/14 [00:08<00:00,  1.61it/s]\n",
        "Validation Accuracy: 64.6926%, Loss: 0.9359%\n",
        "Epoch: 7\n",
        "100%|██████████| 393/393 [03:07<00:00,  2.10it/s]\n",
        "Training Accuracy: 95.6086%, Loss: 0.0761%\n",
        "Saved checkpoint to /content/drive/MyDrive/Computer Vision/FungiDataset/cnn_weights_pytorch/weight_train_ep7.pt\n",
        "100%|██████████| 14/14 [00:08<00:00,  1.68it/s]\n",
        "Validation Accuracy: 65.5386%, Loss: 0.9326%\n",
        "Epoch: 8\n",
        "100%|██████████| 393/393 [03:08<00:00,  2.09it/s]\n",
        "Training Accuracy: 96.2945%, Loss: 0.0637%\n",
        "Saved checkpoint to /content/drive/MyDrive/Computer Vision/FungiDataset/cnn_weights_pytorch/weight_train_ep8.pt\n",
        "100%|██████████| 14/14 [00:09<00:00,  1.52it/s]\n",
        "Validation Accuracy: 65.2002%, Loss: 1.0055%\n",
        "Epoch: 9\n",
        "100%|██████████| 393/393 [03:15<00:00,  2.02it/s]\n",
        "Training Accuracy: 96.4197%, Loss: 0.0591%\n",
        "Saved checkpoint to /content/drive/MyDrive/Computer Vision/FungiDataset/cnn_weights_pytorch/weight_train_ep9.pt\n",
        "100%|██████████| 14/14 [00:08<00:00,  1.69it/s]\n",
        "Validation Accuracy: 65.3130%, Loss: 1.0641%\n",
        "Epoch: 10\n",
        "100%|██████████| 393/393 [03:13<00:00,  2.03it/s]\n",
        "Training Accuracy: 96.3123%, Loss: 0.0588%\n",
        "Saved checkpoint to /content/drive/MyDrive/Computer Vision/FungiDataset/cnn_weights_pytorch/weight_train_ep10.pt\n",
        "100%|██████████| 14/14 [00:08<00:00,  1.60it/s]Validation Accuracy: 65.6514%, Loss: 1.1062%\n",
        "```\n",
        "\n",
        "Benchmark photos:\n",
        "```\n",
        "tensor([[False],\n",
        "        [False],\n",
        "        [False],\n",
        "        [ True],\n",
        "        [False],\n",
        "        [False]], device='cuda:0')\n",
        "```"
      ],
      "metadata": {
        "id": "ur88M6MDLrie"
      }
    },
    {
      "cell_type": "code",
      "source": [
        "# Candidate run plotting, code by Mikayla Krech\n",
        "import matplotlib.pyplot as plt\n",
        "train_accuracies = [0.659543, 0.729499, 0.811144, 0.886846, 0.921496, 0.938453, 0.956086, 0.962945, 0.964197, 0.963123]\n",
        "val_accuracies = [0.651438, 0.664411, 0.654822, 0.618161, 0.655386, 0.646926, 0.655386, 0.652002, 0.653130, 0.656514]\n",
        "\n",
        "plt.plot(train_accuracies, label='Training Accuracy', marker='o')\n",
        "plt.plot(val_accuracies, label='Validation Accuracy', marker='o')\n",
        "plt.xlabel('Epoch')\n",
        "plt.ylabel('Accuracy (%)')\n",
        "plt.legend()\n",
        "\n",
        "plt.title('CNN Mushroom Classification Accuracy') # Add this line\n",
        "\n",
        "# Add data labels above each point\n",
        "for x, y in enumerate(train_accuracies):\n",
        "    plt.text(x, y + 0.01, f'{y:.2f}', ha='center', va='bottom')  # Adjust 0.5 for vertical offset\n",
        "\n",
        "for x, y in enumerate(val_accuracies):\n",
        "    plt.text(x, y + 0.01, f'{y:.2f}', ha='center', va='bottom')  # Adjust 0.5 for vertical offset\n",
        "\n",
        "# data labels were being cut off so I adjusted it:\n",
        "plt.margins(x=0.1, y=0.1)\n",
        "\n",
        "plt.show()"
      ],
      "metadata": {
        "colab": {
          "base_uri": "https://localhost:8080/",
          "height": 472
        },
        "id": "9W8jTuh_LzUH",
        "outputId": "3a0b5408-d6fc-4c38-ff78-b944ad49adea"
      },
      "execution_count": null,
      "outputs": [
        {
          "output_type": "display_data",
          "data": {
            "text/plain": [
              "<Figure size 640x480 with 1 Axes>"
            ],
            "image/png": "[encoded data removed]"
          },
          "metadata": {}
        }
      ]
    }
  ],
  "metadata": {
    "accelerator": "GPU",
    "colab": {
      "gpuType": "T4",
      "machine_shape": "hm",
      "provenance": []
    },
    "kernelspec": {
      "display_name": "Python 3",
      "name": "python3"
    },
    "language_info": {
      "name": "python"
    }
  },
  "nbformat": 4,
  "nbformat_minor": 0
}